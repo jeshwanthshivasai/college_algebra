{
  "nbformat": 4,
  "nbformat_minor": 0,
  "metadata": {
    "colab": {
      "provenance": [],
      "include_colab_link": true
    },
    "kernelspec": {
      "name": "python3",
      "display_name": "Python 3"
    },
    "language_info": {
      "name": "python"
    }
  },
  "cells": [
    {
      "cell_type": "markdown",
      "metadata": {
        "id": "view-in-github",
        "colab_type": "text"
      },
      "source": [
        "<a href=\"https://colab.research.google.com/github/jeshwanthshivasai/college_algebra/blob/main/Week_03_fractions_and_decimals.ipynb\" target=\"_parent\"><img src=\"https://colab.research.google.com/assets/colab-badge.svg\" alt=\"Open In Colab\"/></a>"
      ]
    },
    {
      "cell_type": "markdown",
      "source": [
        "Positive and negative exponents"
      ],
      "metadata": {
        "id": "-jJISeLWBmPO"
      }
    },
    {
      "cell_type": "code",
      "source": [
        "print(10**1)\n",
        "print(10**2)\n",
        "print(10**3)\n",
        "\n",
        "print(10**0)\n",
        "\n",
        "print(10**-1)\n",
        "print(10**-2)\n",
        "print(10**-3)\n"
      ],
      "metadata": {
        "id": "NkMTAVF0BlqE",
        "colab": {
          "base_uri": "https://localhost:8080/"
        },
        "outputId": "ad2d7851-ca2a-4754-827e-eef31ef29915"
      },
      "execution_count": 1,
      "outputs": [
        {
          "output_type": "stream",
          "name": "stdout",
          "text": [
            "10\n",
            "100\n",
            "1000\n",
            "1\n",
            "0.1\n",
            "0.01\n",
            "0.001\n"
          ]
        }
      ]
    },
    {
      "cell_type": "markdown",
      "source": [
        "User input comes in as a string. You can find the length of the string"
      ],
      "metadata": {
        "id": "M6tAOp4pDAtB"
      }
    },
    {
      "cell_type": "code",
      "source": [
        "text = input(\"Enter a number\")\n",
        "print(text)\n",
        "\n",
        "print(len(text))\n",
        "\n",
        "# error - can't do math here\n",
        "# print(text+3)\n"
      ],
      "metadata": {
        "id": "pzYatQcjCWhp",
        "colab": {
          "base_uri": "https://localhost:8080/"
        },
        "outputId": "8a500cfc-1b5e-4b53-dd15-5b42f8ec22d8"
      },
      "execution_count": 2,
      "outputs": [
        {
          "output_type": "stream",
          "name": "stdout",
          "text": [
            "Enter a number2\n",
            "2\n",
            "1\n"
          ]
        }
      ]
    },
    {
      "cell_type": "markdown",
      "source": [
        "Cast input as a `float` or `int` variable"
      ],
      "metadata": {
        "id": "3x1_knXsDG29"
      }
    },
    {
      "cell_type": "code",
      "source": [
        "text = input(\"Enter a number\")\n",
        "num = float(text)\n",
        "print(num + 4)\n"
      ],
      "metadata": {
        "id": "8mtkOWLXDPZK",
        "colab": {
          "base_uri": "https://localhost:8080/"
        },
        "outputId": "2e61af7f-2ace-4222-a6d7-8176119991ec"
      },
      "execution_count": 3,
      "outputs": [
        {
          "output_type": "stream",
          "name": "stdout",
          "text": [
            "Enter a number5\n",
            "9.0\n"
          ]
        }
      ]
    },
    {
      "cell_type": "markdown",
      "source": [
        "Now put it all together"
      ],
      "metadata": {
        "id": "MB7AkCnVEz7N"
      }
    },
    {
      "cell_type": "code",
      "execution_count": 4,
      "metadata": {
        "id": "pDaZckUyBKRl",
        "colab": {
          "base_uri": "https://localhost:8080/"
        },
        "outputId": "e167d096-703f-4459-be92-a76d1011ad6b"
      },
      "outputs": [
        {
          "output_type": "stream",
          "name": "stdout",
          "text": [
            "Enter a decimal number to convert: 7\n",
            "The decimal is  7.0\n",
            "The fraction is  7 / 1\n",
            "The percent is  700.0  %\n"
          ]
        }
      ],
      "source": [
        "\n",
        "# Get string input, which will include a decimal point\n",
        "digits = input(\"Enter a decimal number to convert: \")\n",
        "\n",
        "# Get number of decimal places as an integer\n",
        "exponent = int(len(digits))-1\n",
        "\n",
        "# Convert the input to a float number\n",
        "n = float(digits)\n",
        "\n",
        "# Use the exponent to get the numerator\n",
        "numerator = int(n * 10**exponent)\n",
        "\n",
        "# Use the expoent to get the denominator\n",
        "denominator = 10**exponent\n",
        "\n",
        "# percent is the first two decimal places\n",
        "percent = n * 100\n",
        "\n",
        "# Output\n",
        "print(\"The decimal is \", n)\n",
        "print(\"The fraction is \", numerator, \"/\", denominator)\n",
        "print(\"The percent is \", percent, \" %\")\n",
        "\n"
      ]
    },
    {
      "cell_type": "code",
      "source": [],
      "metadata": {
        "id": "ScSV9M4iGj9E"
      },
      "execution_count": 4,
      "outputs": []
    }
  ]
}