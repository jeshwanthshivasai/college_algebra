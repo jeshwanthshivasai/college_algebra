{
  "nbformat": 4,
  "nbformat_minor": 0,
  "metadata": {
    "colab": {
      "provenance": [],
      "authorship_tag": "ABX9TyPocZm+svNzFyC+As2v8zRU",
      "include_colab_link": true
    },
    "kernelspec": {
      "name": "python3",
      "display_name": "Python 3"
    },
    "language_info": {
      "name": "python"
    }
  },
  "cells": [
    {
      "cell_type": "markdown",
      "metadata": {
        "id": "view-in-github",
        "colab_type": "text"
      },
      "source": [
        "<a href=\"https://colab.research.google.com/github/jeshwanthshivasai/college_algebra/blob/main/Learn%20Ratios%20and%20Proportions.ipynb\" target=\"_parent\"><img src=\"https://colab.research.google.com/assets/colab-badge.svg\" alt=\"Open In Colab\"/></a>"
      ]
    },
    {
      "cell_type": "code",
      "execution_count": 1,
      "metadata": {
        "colab": {
          "base_uri": "https://localhost:8080/"
        },
        "id": "Ynku5B_hc0LD",
        "outputId": "8a845599-f081-4e69-e562-079e716cfd5c"
      },
      "outputs": [
        {
          "output_type": "stream",
          "name": "stdout",
          "text": [
            "n2 =  8.0\n"
          ]
        }
      ],
      "source": [
        "n1 = 1\n",
        "d1 = 2\n",
        "n2 = 0\n",
        "d2 = 16\n",
        "if n2 ==0:\n",
        "    answer = d2*n1/d1\n",
        "    print('n2 = ' , answer)\n",
        "if d2 == 0:\n",
        "    answer = n2*d1/n1\n",
        "    print('d2 = ' , answer)"
      ]
    }
  ]
}