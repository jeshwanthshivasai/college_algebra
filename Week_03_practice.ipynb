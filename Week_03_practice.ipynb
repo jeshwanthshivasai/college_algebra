{
  "nbformat": 4,
  "nbformat_minor": 0,
  "metadata": {
    "colab": {
      "provenance": [],
      "include_colab_link": true
    },
    "kernelspec": {
      "name": "python3",
      "display_name": "Python 3"
    },
    "language_info": {
      "name": "python"
    }
  },
  "cells": [
    {
      "cell_type": "markdown",
      "metadata": {
        "id": "view-in-github",
        "colab_type": "text"
      },
      "source": [
        "<a href=\"https://colab.research.google.com/github/jeshwanthshivasai/college_algebra/blob/main/Week_03_practice.ipynb\" target=\"_parent\"><img src=\"https://colab.research.google.com/assets/colab-badge.svg\" alt=\"Open In Colab\"/></a>"
      ]
    },
    {
      "cell_type": "markdown",
      "source": [
        "Run this code to generate some practice problems"
      ],
      "metadata": {
        "id": "tbUQXIqJwzgm"
      }
    },
    {
      "cell_type": "code",
      "execution_count": 2,
      "metadata": {
        "id": "tbyFnUTI6PD2",
        "outputId": "73cccb3d-4104-4c93-f510-2699706cb860",
        "colab": {
          "base_uri": "https://localhost:8080/"
        }
      },
      "outputs": [
        {
          "output_type": "stream",
          "name": "stdout",
          "text": [
            "Convert the following decimal to a fraction\n",
            "Just use the / to write your fraction\n",
            "0.758\n",
            "Fraction: 758/1000\n",
            "Correct! \n",
            "\n",
            "Convert the following fraction to a percent\n",
            "1 / 186\n",
            "Round your answer to two decimal places\n",
            "Percent: 0.00\n",
            "Try again\n",
            "The answer is  0.54\n",
            " \n",
            "Convert the following decimal to a fraction\n",
            "Just use the / to write your fraction\n",
            "1.0\n",
            "Fraction: 1\n",
            "Correct! \n",
            "\n",
            "Convert the following fraction to a percent\n",
            "18 / 192\n",
            "Round your answer to two decimal places\n",
            "Percent: 0.94\n",
            "Try again\n",
            "The answer is  9.38\n",
            " \n",
            "Convert the following decimal to a fraction\n",
            "Just use the / to write your fraction\n",
            "0.8\n",
            "Fraction: 8/10\n",
            "Correct! \n",
            "\n",
            "Convert the following fraction to a percent\n",
            "80 / 79\n",
            "Round your answer to two decimal places\n",
            "Percent: 1.01\n",
            "Try again\n",
            "The answer is  101.27\n",
            " \n"
          ]
        }
      ],
      "source": [
        "# converts string input (even fractions) to float\n",
        "def string_frac(in_string):\n",
        "    if \"/\" in in_string:\n",
        "        nd = in_string.split(\"/\")\n",
        "        n = float(nd[0])\n",
        "        d = float(nd[1])\n",
        "        ans = n/d\n",
        "        return ans\n",
        "    else:\n",
        "        ans = float(in_string)\n",
        "        return ans\n",
        "\n",
        "\n",
        "# Decimal to fraction\n",
        "def dec_to_frac_test():\n",
        "    import random\n",
        "    import math\n",
        "    # Uses string_frac()\n",
        "    print(\"Convert the following decimal to a fraction\")\n",
        "    print(\"Just use the / to write your fraction\")\n",
        "    places = random.randint(1,4)\n",
        "    decimal = round(random.random(), places)\n",
        "    print(decimal)\n",
        "    d = 10**places\n",
        "    n = decimal*d\n",
        "    ans_in = input(\"Fraction: \")\n",
        "    if string_frac(ans_in)==decimal:\n",
        "        print(\"Correct! \\n\")\n",
        "    else:\n",
        "        print(\"Try again\")\n",
        "        print(\"The answer is \", n, \"/\", d)\n",
        "\n",
        "\n",
        "# Fraction to percent\n",
        "def frac_to_perc_test():\n",
        "    import random\n",
        "    print(\"Convert the following fraction to a percent\")\n",
        "    n = round(random.randint(1,99))\n",
        "    d = round(random.randint(2,200))\n",
        "    print(n, \"/\", d)\n",
        "    percent = round(n/d*100,2)\n",
        "    print(\"Round your answer to two decimal places\")\n",
        "    ans = float(input(\"Percent: \"))\n",
        "    if ans==percent:\n",
        "        print(\"Correct!\")\n",
        "    else:\n",
        "        print(\"Try again\")\n",
        "        print(\"The answer is \", percent)\n",
        "\n",
        "\n",
        "# test loop\n",
        "for a in range(3):\n",
        "    dec_to_frac_test()\n",
        "    frac_to_perc_test()\n",
        "    print(\" \")\n"
      ]
    },
    {
      "cell_type": "code",
      "source": [],
      "metadata": {
        "id": "cKDMJm1pAaiA"
      },
      "execution_count": null,
      "outputs": []
    }
  ]
}